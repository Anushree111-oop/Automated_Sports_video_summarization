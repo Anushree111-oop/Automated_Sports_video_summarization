{
  "cells": [
    {
      "cell_type": "code",
      "execution_count": null,
      "id": "55bd91db",
      "metadata": {
        "id": "55bd91db",
        "outputId": "37d827c2-202a-4547-9194-70085f8a1a6e"
      },
      "outputs": [
        {
          "name": "stdout",
          "output_type": "stream",
          "text": [
            "Requirement already satisfied: librosa in c:\\users\\harry\\anaconda3\\lib\\site-packages (0.10.0.post2)\n",
            "Requirement already satisfied: audioread>=2.1.9 in c:\\users\\harry\\anaconda3\\lib\\site-packages (from librosa) (3.0.0)\n",
            "Requirement already satisfied: typing-extensions>=4.1.1 in c:\\users\\harry\\anaconda3\\lib\\site-packages (from librosa) (4.5.0)\n",
            "Requirement already satisfied: joblib>=0.14 in c:\\users\\harry\\anaconda3\\lib\\site-packages (from librosa) (1.1.0)\n",
            "Requirement already satisfied: decorator>=4.3.0 in c:\\users\\harry\\anaconda3\\lib\\site-packages (from librosa) (4.4.2)\n",
            "Requirement already satisfied: msgpack>=1.0 in c:\\users\\harry\\anaconda3\\lib\\site-packages (from librosa) (1.0.2)\n",
            "Requirement already satisfied: soxr>=0.3.2 in c:\\users\\harry\\anaconda3\\lib\\site-packages (from librosa) (0.3.5)\n",
            "Requirement already satisfied: soundfile>=0.12.1 in c:\\users\\harry\\anaconda3\\lib\\site-packages (from librosa) (0.12.1)\n",
            "Requirement already satisfied: scikit-learn>=0.20.0 in c:\\users\\harry\\anaconda3\\lib\\site-packages (from librosa) (0.24.2)\n",
            "Requirement already satisfied: lazy-loader>=0.1 in c:\\users\\harry\\anaconda3\\lib\\site-packages (from librosa) (0.2)\n",
            "Requirement already satisfied: scipy>=1.2.0 in c:\\users\\harry\\anaconda3\\lib\\site-packages (from librosa) (1.7.1)\n",
            "Requirement already satisfied: numpy!=1.22.0,!=1.22.1,!=1.22.2,>=1.20.3 in c:\\users\\harry\\anaconda3\\lib\\site-packages (from librosa) (1.20.3)\n",
            "Requirement already satisfied: pooch<1.7,>=1.0 in c:\\users\\harry\\anaconda3\\lib\\site-packages (from librosa) (1.6.0)\n",
            "Requirement already satisfied: numba>=0.51.0 in c:\\users\\harry\\anaconda3\\lib\\site-packages (from librosa) (0.54.1)\n",
            "Requirement already satisfied: setuptools in c:\\users\\harry\\anaconda3\\lib\\site-packages (from numba>=0.51.0->librosa) (58.0.4)\n",
            "Requirement already satisfied: llvmlite<0.38,>=0.37.0rc1 in c:\\users\\harry\\anaconda3\\lib\\site-packages (from numba>=0.51.0->librosa) (0.37.0)\n",
            "Requirement already satisfied: packaging>=20.0 in c:\\users\\harry\\anaconda3\\lib\\site-packages (from pooch<1.7,>=1.0->librosa) (21.0)\n",
            "Requirement already satisfied: appdirs>=1.3.0 in c:\\users\\harry\\anaconda3\\lib\\site-packages (from pooch<1.7,>=1.0->librosa) (1.4.4)\n",
            "Requirement already satisfied: requests>=2.19.0 in c:\\users\\harry\\anaconda3\\lib\\site-packages (from pooch<1.7,>=1.0->librosa) (2.26.0)\n",
            "Requirement already satisfied: pyparsing>=2.0.2 in c:\\users\\harry\\anaconda3\\lib\\site-packages (from packaging>=20.0->pooch<1.7,>=1.0->librosa) (3.0.4)\n",
            "Requirement already satisfied: urllib3<1.27,>=1.21.1 in c:\\users\\harry\\anaconda3\\lib\\site-packages (from requests>=2.19.0->pooch<1.7,>=1.0->librosa) (1.26.7)\n",
            "Requirement already satisfied: charset-normalizer~=2.0.0 in c:\\users\\harry\\anaconda3\\lib\\site-packages (from requests>=2.19.0->pooch<1.7,>=1.0->librosa) (2.0.4)\n",
            "Requirement already satisfied: idna<4,>=2.5 in c:\\users\\harry\\anaconda3\\lib\\site-packages (from requests>=2.19.0->pooch<1.7,>=1.0->librosa) (3.2)\n",
            "Requirement already satisfied: certifi>=2017.4.17 in c:\\users\\harry\\anaconda3\\lib\\site-packages (from requests>=2.19.0->pooch<1.7,>=1.0->librosa) (2023.5.7)\n",
            "Requirement already satisfied: threadpoolctl>=2.0.0 in c:\\users\\harry\\anaconda3\\lib\\site-packages (from scikit-learn>=0.20.0->librosa) (2.2.0)\n",
            "Requirement already satisfied: cffi>=1.0 in c:\\users\\harry\\anaconda3\\lib\\site-packages (from soundfile>=0.12.1->librosa) (1.14.6)\n",
            "Requirement already satisfied: pycparser in c:\\users\\harry\\anaconda3\\lib\\site-packages (from cffi>=1.0->soundfile>=0.12.1->librosa) (2.20)\n",
            "Note: you may need to restart the kernel to use updated packages.\n"
          ]
        }
      ],
      "source": [
        "pip install librosa"
      ]
    },
    {
      "cell_type": "code",
      "execution_count": null,
      "id": "f88f3af0",
      "metadata": {
        "id": "f88f3af0"
      },
      "outputs": [],
      "source": [
        "import librosa\n",
        "import matplotlib.pyplot as plt\n",
        "import numpy as np\n",
        "import pandas as pd\n",
        "import IPython.display as ipd\n",
        "import os,shutil\n",
        "from moviepy.video.io.ffmpeg_tools import ffmpeg_extract_subclip\n",
        "from moviepy.editor import VideoFileClip, concatenate_videoclips"
      ]
    },
    {
      "cell_type": "code",
      "execution_count": null,
      "id": "b487e437",
      "metadata": {
        "id": "b487e437",
        "outputId": "c39955fb-b96d-444b-c486-f7aa6b96d29a"
      },
      "outputs": [
        {
          "name": "stdout",
          "output_type": "stream",
          "text": [
            "31\n"
          ]
        }
      ],
      "source": [
        "#Load the audio file of the sports clip.\n",
        "filename='powerplay.wav' #Enter your audio file name of match here. .wav,.mp3, etc. are supported.\n",
        "vid, sample_rate = librosa.load(filename,sr=16000)\n",
        "print(int(librosa.get_duration(y = vid, sr = sample_rate)/60))\n"
      ]
    },
    {
      "cell_type": "code",
      "execution_count": null,
      "id": "11604971",
      "metadata": {
        "id": "11604971"
      },
      "outputs": [],
      "source": [
        "#Breaking down video into chunks of 5 seconds so that rise in energy can be found.\n",
        "chunk_size=5\n",
        "window_length = chunk_size * sample_rate\n"
      ]
    },
    {
      "cell_type": "code",
      "execution_count": null,
      "id": "663c94aa",
      "metadata": {
        "id": "663c94aa",
        "outputId": "9ac9f4a8-be73-4c8b-cd30-29b3931b0ff0"
      },
      "outputs": [
        {
          "name": "stdout",
          "output_type": "stream",
          "text": [
            "296.7486254040921\n"
          ]
        },
        {
          "data": {
            "text/plain": [
              "[<matplotlib.lines.Line2D at 0x193d24a5640>]"
            ]
          },
          "execution_count": 5,
          "metadata": {},
          "output_type": "execute_result"
        },
        {
          "data": {
            "image/png": "[encoded data removed]",
            "text/plain": [
              "<Figure size 1008x576 with 1 Axes>"
            ]
          },
          "metadata": {
            "needs_background": "light"
          },
          "output_type": "display_data"
        }
      ],
      "source": [
        "#seeing an audio sample and it's time-amplitude graph\n",
        "a=vid[5*window_length:6*window_length]\n",
        "ipd.Audio(a, rate=sample_rate)\n",
        "energy = sum(abs(a**2))\n",
        "print(energy)\n",
        "fig = plt.figure(figsize=(14, 8))\n",
        "ax1 = fig.add_subplot(211)\n",
        "ax1.set_xlabel('Time')\n",
        "ax1.set_ylabel('Amplitude')\n",
        "ax1.plot(a)"
      ]
    },
    {
      "cell_type": "code",
      "execution_count": null,
      "id": "d52014a0",
      "metadata": {
        "id": "d52014a0",
        "outputId": "802c9772-6789-4e5d-c5e6-dcd8f389e272"
      },
      "outputs": [
        {
          "data": {
            "image/png": "[encoded data removed]",
            "text/plain": [
              "<Figure size 432x288 with 1 Axes>"
            ]
          },
          "metadata": {
            "needs_background": "light"
          },
          "output_type": "display_data"
        }
      ],
      "source": [
        "#Plotting short time energy distribution histogram of all chunks\n",
        "energy = np.array([sum(abs(vid[i:i+window_length]**2)) for i in range(0, len(vid), window_length)])\n",
        "plt.hist(energy)\n",
        "plt.show()\n",
        "#Close graphs for progress of program"
      ]
    },
    {
      "cell_type": "code",
      "execution_count": null,
      "id": "fec67f2b",
      "metadata": {
        "id": "fec67f2b"
      },
      "outputs": [],
      "source": [
        "#Finding and setting threshold value of commentator and audience noise above which we want to include portion in highlights.\n",
        "df=pd.DataFrame(columns=['energy','start','end'])\n",
        "thresh=300\n",
        "row_index=0\n",
        "for i in range(len(energy)):\n",
        "\tvalue=energy[i]\n",
        "\tif(value>=thresh):\n",
        "\t\ti=np.where(energy == value)[0]\n",
        "\t\tdf.loc[row_index,'energy']=value\n",
        "\t\tdf.loc[row_index,'start']=i[0] * 5\n",
        "\t\tdf.loc[row_index,'end']=(i[0]+1) * 5\n",
        "\t\trow_index= row_index + 1\n"
      ]
    },
    {
      "cell_type": "code",
      "execution_count": null,
      "id": "8e1dbca6",
      "metadata": {
        "id": "8e1dbca6"
      },
      "outputs": [],
      "source": [
        "#Merge consecutive time intervals of audio clips into one.\n",
        "temp=[]\n",
        "i,j,n=0,0,len(df) - 1\n",
        "while(i<n):\n",
        "\tj=i+1\n",
        "\twhile(j<=n):\n",
        "\t\tif(df['end'][i] == df['start'][j]):\n",
        "\t\t\tdf.loc[i,'end'] = df.loc[j,'end']\n",
        "\t\t\ttemp.append(j)\n",
        "\t\t\tj=j+1\n",
        "\t\telse:\n",
        "\t\t\ti=j\n",
        "\t\t\tbreak\n",
        "df.drop(temp,axis=0,inplace=True)"
      ]
    },
    {
      "cell_type": "code",
      "execution_count": null,
      "id": "6dfc7e04",
      "metadata": {
        "id": "6dfc7e04"
      },
      "outputs": [],
      "source": [
        "#Extracting subclips from the video file on the basis of energy profile obtained from audio file.\n",
        "start=np.array(df['start'])\n",
        "end=np.array(df['end'])"
      ]
    },
    {
      "cell_type": "code",
      "execution_count": null,
      "id": "550e9fe5",
      "metadata": {
        "id": "550e9fe5"
      },
      "outputs": [],
      "source": [
        "#Create temporary folder for storing subclips generated. This folder will be deleted later after highlights are generated.\n",
        "cwd=os.getcwd()\n",
        "sub_folder=os.path.join(cwd,\"Subclips\")\n",
        "if os.path.exists(sub_folder):\n",
        "\tshutil.rmtree(sub_folder)\n",
        "\tpath=os.mkdir(sub_folder)\n",
        "else:\n",
        "\tpath=os.mkdir(sub_folder)\n",
        "#print(sub_folder,type(sub_folder))"
      ]
    },
    {
      "cell_type": "code",
      "execution_count": null,
      "id": "6993d98d",
      "metadata": {
        "id": "6993d98d",
        "outputId": "58b30add-6778-4604-d0c0-5d5bad71d4b6"
      },
      "outputs": [
        {
          "name": "stdout",
          "output_type": "stream",
          "text": [
            "         energy start   end\n",
            "0    317.692535     5    10\n",
            "1    398.352511    55    70\n",
            "4    422.363762   100   105\n",
            "5    415.729795   125   145\n",
            "9    305.679425   220   225\n",
            "10   484.630302   250   275\n",
            "15   446.700669   295   305\n",
            "17   328.809396   315   320\n",
            "18   313.171356   365   375\n",
            "20    356.19395   380   395\n",
            "23   312.767893   405   410\n",
            "24   437.197233   435   440\n",
            "25   325.577143   460   475\n",
            "28    382.04604   520   530\n",
            "30   668.806219   545   570\n",
            "35   340.644504   575   585\n",
            "37   629.081872   610   640\n",
            "43   357.348846   645   670\n",
            "48    353.55574   675   680\n",
            "49   357.759377   685   700\n",
            "52   347.116752   715   720\n",
            "53   335.202011   740   775\n",
            "60   352.001862   785   790\n",
            "61   345.102687   795   810\n",
            "64   367.899659   830   835\n",
            "65   383.390017   900   930\n",
            "71    335.30329   935   945\n",
            "73   356.648556   950   955\n",
            "74   310.364267   970   975\n",
            "75   345.115989   985  1000\n",
            "78    381.58217  1040  1055\n",
            "81   318.986318  1130  1160\n",
            "87   520.410806  1170  1190\n",
            "91   301.096641  1215  1225\n",
            "93   372.394911  1265  1270\n",
            "94    462.51683  1305  1325\n",
            "98   336.718302  1355  1365\n",
            "100   379.03816  1405  1410\n",
            "101  304.925847  1505  1510\n",
            "102  371.877011  1530  1540\n",
            "104  335.058558  1560  1595\n",
            "111  584.423778  1600  1645\n",
            "120  305.893598  1660  1665\n",
            "121   368.75185  1685  1690\n",
            "122  502.669612  1720  1725\n",
            "123  305.279192  1750  1765\n",
            "126  357.670462  1770  1780\n",
            "128   333.46141  1790  1795\n",
            "129  331.861582  1825  1830\n",
            "130  330.746323  1850  1855\n",
            "Moviepy - Running:\n",
            ">>> \"+ \" \".join(cmd)\n",
            "Moviepy - Command successful\n",
            "Moviepy - Running:\n",
            ">>> \"+ \" \".join(cmd)\n",
            "Moviepy - Command successful\n",
            "Moviepy - Running:\n",
            ">>> \"+ \" \".join(cmd)\n",
            "Moviepy - Command successful\n",
            "Moviepy - Running:\n",
            ">>> \"+ \" \".join(cmd)\n",
            "Moviepy - Command successful\n",
            "Moviepy - Running:\n",
            ">>> \"+ \" \".join(cmd)\n",
            "Moviepy - Command successful\n",
            "Moviepy - Running:\n",
            ">>> \"+ \" \".join(cmd)\n",
            "Moviepy - Command successful\n",
            "Moviepy - Running:\n",
            ">>> \"+ \" \".join(cmd)\n",
            "Moviepy - Command successful\n",
            "Moviepy - Running:\n",
            ">>> \"+ \" \".join(cmd)\n",
            "Moviepy - Command successful\n",
            "Moviepy - Running:\n",
            ">>> \"+ \" \".join(cmd)\n",
            "Moviepy - Command successful\n",
            "Moviepy - Running:\n",
            ">>> \"+ \" \".join(cmd)\n",
            "Moviepy - Command successful\n",
            "Moviepy - Running:\n",
            ">>> \"+ \" \".join(cmd)\n",
            "Moviepy - Command successful\n",
            "Moviepy - Running:\n",
            ">>> \"+ \" \".join(cmd)\n",
            "Moviepy - Command successful\n",
            "Moviepy - Running:\n",
            ">>> \"+ \" \".join(cmd)\n",
            "Moviepy - Command successful\n",
            "Moviepy - Running:\n",
            ">>> \"+ \" \".join(cmd)\n",
            "Moviepy - Command successful\n",
            "Moviepy - Running:\n",
            ">>> \"+ \" \".join(cmd)\n",
            "Moviepy - Command successful\n",
            "Moviepy - Running:\n",
            ">>> \"+ \" \".join(cmd)\n",
            "Moviepy - Command successful\n",
            "Moviepy - Running:\n",
            ">>> \"+ \" \".join(cmd)\n",
            "Moviepy - Command successful\n",
            "Moviepy - Running:\n",
            ">>> \"+ \" \".join(cmd)\n",
            "Moviepy - Command successful\n",
            "Moviepy - Running:\n",
            ">>> \"+ \" \".join(cmd)\n",
            "Moviepy - Command successful\n",
            "Moviepy - Running:\n",
            ">>> \"+ \" \".join(cmd)\n",
            "Moviepy - Command successful\n",
            "Moviepy - Running:\n",
            ">>> \"+ \" \".join(cmd)\n",
            "Moviepy - Command successful\n",
            "Moviepy - Running:\n",
            ">>> \"+ \" \".join(cmd)\n",
            "Moviepy - Command successful\n",
            "Moviepy - Running:\n",
            ">>> \"+ \" \".join(cmd)\n",
            "Moviepy - Command successful\n",
            "Moviepy - Running:\n",
            ">>> \"+ \" \".join(cmd)\n",
            "Moviepy - Command successful\n",
            "Moviepy - Running:\n",
            ">>> \"+ \" \".join(cmd)\n",
            "Moviepy - Command successful\n",
            "Moviepy - Running:\n",
            ">>> \"+ \" \".join(cmd)\n",
            "Moviepy - Command successful\n",
            "Moviepy - Running:\n",
            ">>> \"+ \" \".join(cmd)\n",
            "Moviepy - Command successful\n",
            "Moviepy - Running:\n",
            ">>> \"+ \" \".join(cmd)\n",
            "Moviepy - Command successful\n",
            "Moviepy - Running:\n",
            ">>> \"+ \" \".join(cmd)\n",
            "Moviepy - Command successful\n",
            "Moviepy - Running:\n",
            ">>> \"+ \" \".join(cmd)\n",
            "Moviepy - Command successful\n",
            "Moviepy - Running:\n",
            ">>> \"+ \" \".join(cmd)\n",
            "Moviepy - Command successful\n",
            "Moviepy - Running:\n",
            ">>> \"+ \" \".join(cmd)\n",
            "Moviepy - Command successful\n",
            "Moviepy - Running:\n",
            ">>> \"+ \" \".join(cmd)\n",
            "Moviepy - Command successful\n",
            "Moviepy - Running:\n",
            ">>> \"+ \" \".join(cmd)\n",
            "Moviepy - Command successful\n",
            "Moviepy - Running:\n",
            ">>> \"+ \" \".join(cmd)\n",
            "Moviepy - Command successful\n",
            "Moviepy - Running:\n",
            ">>> \"+ \" \".join(cmd)\n",
            "Moviepy - Command successful\n",
            "Moviepy - Running:\n",
            ">>> \"+ \" \".join(cmd)\n",
            "Moviepy - Command successful\n",
            "Moviepy - Running:\n",
            ">>> \"+ \" \".join(cmd)\n",
            "Moviepy - Command successful\n",
            "Moviepy - Running:\n",
            ">>> \"+ \" \".join(cmd)\n",
            "Moviepy - Command successful\n",
            "Moviepy - Running:\n",
            ">>> \"+ \" \".join(cmd)\n",
            "Moviepy - Command successful\n",
            "Moviepy - Running:\n",
            ">>> \"+ \" \".join(cmd)\n",
            "Moviepy - Command successful\n",
            "Moviepy - Running:\n",
            ">>> \"+ \" \".join(cmd)\n",
            "Moviepy - Command successful\n",
            "Moviepy - Running:\n",
            ">>> \"+ \" \".join(cmd)\n",
            "Moviepy - Command successful\n",
            "Moviepy - Running:\n",
            ">>> \"+ \" \".join(cmd)\n",
            "Moviepy - Command successful\n",
            "Moviepy - Running:\n",
            ">>> \"+ \" \".join(cmd)\n",
            "Moviepy - Command successful\n",
            "Moviepy - Running:\n",
            ">>> \"+ \" \".join(cmd)\n",
            "Moviepy - Command successful\n",
            "Moviepy - Running:\n",
            ">>> \"+ \" \".join(cmd)\n",
            "Moviepy - Command successful\n",
            "Moviepy - Running:\n",
            ">>> \"+ \" \".join(cmd)\n",
            "Moviepy - Command successful\n",
            "Moviepy - Running:\n",
            ">>> \"+ \" \".join(cmd)\n",
            "Moviepy - Command successful\n",
            "Moviepy - Running:\n",
            ">>> \"+ \" \".join(cmd)\n",
            "Moviepy - Command successful\n"
          ]
        }
      ],
      "source": [
        "#Extract moments from videos to be added in highlight\n",
        "print(df)\n",
        "for i in range(len(df)):\n",
        "\tif(i!=0):\n",
        "\t\tstart_lim = start[i] - 5  #Assuming that noise starts after the shot, so set start point as t-5 seconds to include the shot/wicket action.\n",
        "\telse:\n",
        "\t\tstart_lim = start[i]\n",
        "\tend_lim   = end[i]\n",
        "\tfilename=\"highlight\" + str(i+1) + \".mp4\"\n",
        "\tffmpeg_extract_subclip(\"videoplayback1.mp4\",start_lim,end_lim,targetname=sub_folder+\"/\"+filename) #Enter your sports video clip name here.\n"
      ]
    },
    {
      "cell_type": "code",
      "execution_count": null,
      "id": "9ace79b2",
      "metadata": {
        "scrolled": true,
        "id": "9ace79b2",
        "outputId": "368df5a0-62e5-4149-d7dd-c6d199f57055"
      },
      "outputs": [
        {
          "name": "stdout",
          "output_type": "stream",
          "text": [
            "Moviepy - Building video output.mp4.\n",
            "MoviePy - Writing audio in outputTEMP_MPY_wvf_snd.mp3\n"
          ]
        },
        {
          "name": "stderr",
          "output_type": "stream",
          "text": [
            "                                                                        \r"
          ]
        },
        {
          "name": "stdout",
          "output_type": "stream",
          "text": [
            "MoviePy - Done.\n",
            "Moviepy - Writing video output.mp4\n",
            "\n"
          ]
        },
        {
          "name": "stderr",
          "output_type": "stream",
          "text": [
            "                                                                   "
          ]
        },
        {
          "name": "stdout",
          "output_type": "stream",
          "text": [
            "Moviepy - Done !\n",
            "Moviepy - video ready output.mp4\n"
          ]
        },
        {
          "name": "stderr",
          "output_type": "stream",
          "text": [
            "\r"
          ]
        }
      ],
      "source": [
        "files=os.listdir(sub_folder)\n",
        "files=[sub_folder+\"/highlight\" + str(i+1) + \".mp4\" for i in range(len(df))]\n",
        "final_clip=concatenate_videoclips([VideoFileClip(i) for i in files])\n",
        "final_clip.write_videofile(\"output.mp4\", fps = 25) #Enter the desired output highlights filename.\n",
        "shutil.rmtree(sub_folder) #Delete the temporary file."
      ]
    }
  ],
  "metadata": {
    "kernelspec": {
      "display_name": "Python 3 (ipykernel)",
      "language": "python",
      "name": "python3"
    },
    "language_info": {
      "codemirror_mode": {
        "name": "ipython",
        "version": 3
      },
      "file_extension": ".py",
      "mimetype": "text/x-python",
      "name": "python",
      "nbconvert_exporter": "python",
      "pygments_lexer": "ipython3",
      "version": "3.9.7"
    },
    "colab": {
      "provenance": []
    }
  },
  "nbformat": 4,
  "nbformat_minor": 5
}